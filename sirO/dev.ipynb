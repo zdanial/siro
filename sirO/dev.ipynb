{
 "cells": [
  {
   "cell_type": "code",
   "execution_count": 2,
   "metadata": {},
   "outputs": [
    {
     "ename": "ModuleNotFoundError",
     "evalue": "No module named 'sirO'",
     "output_type": "error",
     "traceback": [
      "\u001b[0;31m---------------------------------------------------------------------------\u001b[0m",
      "\u001b[0;31mModuleNotFoundError\u001b[0m                       Traceback (most recent call last)",
      "Cell \u001b[0;32mIn[2], line 2\u001b[0m\n\u001b[1;32m      1\u001b[0m get_ipython()\u001b[39m.\u001b[39msystem(\u001b[39m'\u001b[39m\u001b[39msource .env/bin/activate\u001b[39m\u001b[39m'\u001b[39m)\n\u001b[0;32m----> 2\u001b[0m \u001b[39mimport\u001b[39;00m \u001b[39msirO\u001b[39;00m\n\u001b[1;32m      3\u001b[0m \u001b[39mimport\u001b[39;00m \u001b[39mmatplotlib\u001b[39;00m\u001b[39m.\u001b[39;00m\u001b[39mpyplot\u001b[39;00m \u001b[39mas\u001b[39;00m \u001b[39mplt\u001b[39;00m\n",
      "\u001b[0;31mModuleNotFoundError\u001b[0m: No module named 'sirO'"
     ]
    }
   ],
   "source": [
    "!source .env/bin/activate\n",
    "import sirO\n",
    "import matplotlib.pyplot as plt"
   ]
  },
  {
   "cell_type": "code",
   "execution_count": 3,
   "metadata": {},
   "outputs": [
    {
     "ename": "NameError",
     "evalue": "name 'sirO' is not defined",
     "output_type": "error",
     "traceback": [
      "\u001b[0;31m---------------------------------------------------------------------------\u001b[0m",
      "\u001b[0;31mNameError\u001b[0m                                 Traceback (most recent call last)",
      "Cell \u001b[0;32mIn[3], line 1\u001b[0m\n\u001b[0;32m----> 1\u001b[0m s, i, r \u001b[39m=\u001b[39m sirO\u001b[39m.\u001b[39msir(\u001b[39m100\u001b[39m, \u001b[39m0.1\u001b[39m, \u001b[39m1000\u001b[39m, \u001b[39m1\u001b[39m, \u001b[39m0\u001b[39m, [\n\u001b[1;32m      2\u001b[0m     \u001b[39m1\u001b[39m \u001b[39mfor\u001b[39;00m i \u001b[39min\u001b[39;00m \u001b[39mrange\u001b[39m(\u001b[39mint\u001b[39m(\u001b[39m100\u001b[39m\u001b[39m/\u001b[39m\u001b[39m/\u001b[39m\u001b[39m0.1\u001b[39m)\u001b[39m+\u001b[39m\u001b[39m1\u001b[39m)], \n\u001b[1;32m      3\u001b[0m     [\u001b[39m1\u001b[39m\u001b[39m/\u001b[39m\u001b[39m14\u001b[39m \u001b[39mfor\u001b[39;00m i \u001b[39min\u001b[39;00m \u001b[39mrange\u001b[39m(\u001b[39mint\u001b[39m(\u001b[39m100\u001b[39m\u001b[39m/\u001b[39m\u001b[39m/\u001b[39m\u001b[39m0.1\u001b[39m)\u001b[39m+\u001b[39m\u001b[39m1\u001b[39m)],\n\u001b[1;32m      4\u001b[0m     [\u001b[39m0.005\u001b[39m \u001b[39mfor\u001b[39;00m i \u001b[39min\u001b[39;00m \u001b[39mrange\u001b[39m(\u001b[39mint\u001b[39m(\u001b[39m100\u001b[39m\u001b[39m/\u001b[39m\u001b[39m/\u001b[39m\u001b[39m0.1\u001b[39m)\u001b[39m+\u001b[39m\u001b[39m1\u001b[39m)] )\n",
      "\u001b[0;31mNameError\u001b[0m: name 'sirO' is not defined"
     ]
    }
   ],
   "source": [
    "\n",
    "s, i, r = sirO.sir(100, 0.1, 1000, 1, 0, [\n",
    "    1 for i in range(int(100//0.1)+1)], \n",
    "    [1/14 for i in range(int(100//0.1)+1)],\n",
    "    [0.005 for i in range(int(100//0.1)+1)] )"
   ]
  },
  {
   "cell_type": "code",
   "execution_count": null,
   "metadata": {},
   "outputs": [],
   "source": []
  }
 ],
 "metadata": {
  "kernelspec": {
   "display_name": "Python 3",
   "language": "python",
   "name": "python3"
  },
  "language_info": {
   "codemirror_mode": {
    "name": "ipython",
    "version": 3
   },
   "file_extension": ".py",
   "mimetype": "text/x-python",
   "name": "python",
   "nbconvert_exporter": "python",
   "pygments_lexer": "ipython3",
   "version": "3.10.4"
  },
  "orig_nbformat": 4,
  "vscode": {
   "interpreter": {
    "hash": "3ad933181bd8a04b432d3370b9dc3b0662ad032c4dfaa4e4f1596c548f763858"
   }
  }
 },
 "nbformat": 4,
 "nbformat_minor": 2
}
